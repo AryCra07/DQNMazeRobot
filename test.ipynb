{
 "cells": [
  {
   "cell_type": "code",
   "execution_count": 1,
   "id": "dc280734",
   "metadata": {},
   "outputs": [
    {
     "data": {
      "image/png": "[encoded data removed]",
      "text/plain": [
       "<Figure size 432x288 with 1 Axes>"
      ]
     },
     "metadata": {
      "needs_background": "light"
     },
     "output_type": "display_data"
    },
    {
     "name": "stdout",
     "output_type": "stream",
     "text": [
      "Maze of size (6, 6)\n",
      "{'hit_wall': 10.0, 'destination': -144.0, 'default': 1}\n",
      "action: r reward: 1\n",
      "action: r reward: 1\n",
      "action: r reward: 1\n",
      "action: d reward: 1\n",
      "action: d reward: 1\n",
      "action: d reward: 1\n",
      "action: d reward: 1\n",
      "action: d reward: 1\n",
      "action: r reward: 1\n",
      "action: r reward: -144.0\n",
      "success\n"
     ]
    },
    {
     "data": {
      "text/plain": [
       "[<matplotlib.lines.Line2D at 0x7f182c12b890>]"
      ]
     },
     "execution_count": 1,
     "metadata": {},
     "output_type": "execute_result"
    },
    {
     "data": {
      "image/png": "[encoded data removed]",
      "text/plain": [
       "<Figure size 432x288 with 1 Axes>"
      ]
     },
     "metadata": {
      "needs_background": "light"
     },
     "output_type": "display_data"
    }
   ],
   "source": [
    "# 导入相关包 \n",
    "import random\n",
    "import numpy as np\n",
    "import torch\n",
    "from QRobot import QRobot\n",
    "from ReplayDataSet import ReplayDataSet\n",
    "from torch_py.MinDQNRobot import MinDQNRobot as TorchRobot # PyTorch版本\n",
    "import matplotlib.pyplot as plt\n",
    "from Maze import Maze\n",
    "import time\n",
    "\n",
    "class Robot(TorchRobot):\n",
    "    def __init__(self, maze, epsilon=0.8, epsilon_decay=0.995):\n",
    "        super(Robot, self).__init__(maze)\n",
    "        \n",
    "        maze.set_reward(reward={\n",
    "            \"hit_wall\": 10.,\n",
    "            \"destination\": -maze.maze_size ** 2 * 4.,\n",
    "            \"default\": 1,\n",
    "        })\n",
    "        \n",
    "        self.maze = maze\n",
    "        # add epsilon-greedy init\n",
    "        self.epsilon = epsilon\n",
    "        self.epsilon_decay = epsilon_decay\n",
    "        \n",
    "        self.memory.build_full_view(maze=maze)\n",
    "        \n",
    "        self.loss_list = self.train()\n",
    "    \n",
    "    def train_update(self):\n",
    "        state = self.sense_state()\n",
    "        \n",
    "        # Epsilon-greedy exploration\n",
    "        if np.random.random() < self.epsilon:\n",
    "            action = np.random.choice(self.valid_action)\n",
    "        else:\n",
    "            action = self._choose_action(state)\n",
    "        \n",
    "        reward = self.maze.move_robot(action)\n",
    "        \n",
    "        return action, reward\n",
    "    \n",
    "    def train(self):\n",
    "        loss_list = []\n",
    "        batch_size = len(self.memory)\n",
    "        \n",
    "        # start = time.time()\n",
    "        while True:\n",
    "            loss = self._learn(batch=batch_size)\n",
    "            loss_list.append(loss)\n",
    "            self.reset()\n",
    "            \n",
    "            for _ in range(self.maze.maze_size ** 2 - 1):\n",
    "                a, r = self.test_update()\n",
    "                if r == self.maze.reward[\"destination\"]:\n",
    "                    # print('Training time: {:.2f} s'.format(time.time() - start))\n",
    "                    return loss_list\n",
    "                    \n",
    "            # change the value of epsilon\n",
    "            self.epsilon = max(0.01, self.epsilon * self.epsilon_decay)    \n",
    "    \n",
    "    def test_update(self):\n",
    "        state = np.array(self.sense_state(), dtype=np.int16)\n",
    "        state = torch.from_numpy(state).float().to(self.device)\n",
    "\n",
    "        self.eval_model.eval()\n",
    "        with torch.no_grad():\n",
    "            q_value = self.eval_model(state).cpu().data.numpy()\n",
    "\n",
    "        action = self.valid_action[np.argmin(q_value).item()]\n",
    "        reward = self.maze.move_robot(action)\n",
    "        return action, reward\n",
    "\n",
    "maze = Maze(maze_size=6) \n",
    "print(maze)\n",
    "\n",
    "robot = Robot(maze=maze)\n",
    "\n",
    "print(robot.maze.reward) # 输出最小值选择策略的reward值\n",
    "\n",
    "\"\"\"Test Robot\"\"\"\n",
    "robot.reset()\n",
    "for _ in range(maze.maze_size ** 2 - 1):\n",
    "    a, r = robot.test_update()\n",
    "    print(\"action:\", a, \"reward:\", r)\n",
    "    if r == maze.reward[\"destination\"]:\n",
    "        print(\"success\")\n",
    "        break\n",
    "        \n",
    "# 绘制损失曲线\n",
    "loss_list = robot.loss_list\n",
    "n = len(loss_list)\n",
    "plt.plot(range(n), loss_list)"
   ]
  },
  {
   "cell_type": "code",
   "execution_count": null,
   "id": "cb566362",
   "metadata": {},
   "outputs": [],
   "source": []
  }
 ],
 "metadata": {
  "kernelspec": {
   "display_name": "Python 3",
   "language": "python",
   "name": "python3"
  },
  "language_info": {
   "codemirror_mode": {
    "name": "ipython",
    "version": 3
   },
   "file_extension": ".py",
   "mimetype": "text/x-python",
   "name": "python",
   "nbconvert_exporter": "python",
   "pygments_lexer": "ipython3",
   "version": "3.7.5"
  }
 },
 "nbformat": 4,
 "nbformat_minor": 5
}
